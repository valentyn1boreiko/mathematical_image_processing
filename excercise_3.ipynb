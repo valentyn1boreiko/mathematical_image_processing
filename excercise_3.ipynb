{
 "cells": [
  {
   "cell_type": "code",
   "execution_count": 669,
   "metadata": {
    "pycharm": {
     "is_executing": false
    }
   },
   "outputs": [
    {
     "name": "stdout",
     "output_type": "stream",
     "text": [
      "[[ 2.000010e+00  0.000000e+00 -2.500000e-06  0.000000e+00  0.000000e+00]\n",
      " [ 0.000000e+00  2.000010e+00  0.000000e+00 -2.500000e-06  0.000000e+00]\n",
      " [-2.500000e-06  0.000000e+00  2.000010e+00  0.000000e+00 -2.500000e-06]\n",
      " [ 0.000000e+00 -2.500000e-06  0.000000e+00  2.000010e+00  0.000000e+00]\n",
      " [ 0.000000e+00  0.000000e+00 -2.500000e-06  0.000000e+00  2.000025e+00]] (8, 8) (8,)\n",
      "(8, 8) (8,)\n"
     ]
    }
   ],
   "source": [
    "import numpy as np\n",
    "import matplotlib.pyplot as plt\n",
    "\n",
    "def tridiag(a, b, c, k1=-1, k2=0, k3=1):\n",
    "    return np.diag(a, k1) + np.diag(b, k2) + np.diag(c, k3)\n",
    "\n",
    "def tridiag_lower(a, c, k1=0, k3=-2):\n",
    "    return np.diag(a, k1) + np.diag(c, k3)\n",
    "\n",
    "def forward_diff(f, h):\n",
    "    return (f[1:] - f[:-1]) / h\n",
    "\n",
    "def central_diff(f, h):\n",
    "    return (f[2:] - f[:-2]) / (2*h)\n",
    "\n",
    "# Err = 0.26, 1.27\n",
    "alpha = 0.0000001 # 0.002, 0.0002\n",
    "N = 10 # 30, 90\n",
    "h = 1 / N\n",
    "delta = 0.001\n",
    "a = 0\n",
    "b = 4\n",
    "xx = np.linspace(a, b, N)\n",
    "\n",
    "solver = 'discrete'  # continuous, discrete\n",
    "if solver == 'discrete':\n",
    "    A_lower = tridiag_lower([1 + 5*alpha / (4*h**2)] + list(np.ones(N-4)*(1 + alpha/(2*h**2))) + [1 + 5*alpha / (4*h**2)],\n",
    "                      [-alpha/(4*h**2)] + list(np.ones(N-6)*(-alpha/(4*h**2))) + [-alpha/(4*h**2)])\n",
    "                \n",
    "    A = A_lower + A_lower.T\n",
    "    \n",
    "    \n",
    "    f_original = np.exp(xx)[1:-1]\n",
    "    noise = np.random.choice([-1, 1], f_original.shape[0]) * delta\n",
    "    f = f_original + noise\n",
    "    f_0 = np.exp(a)\n",
    "    f_n = np.exp(b)\n",
    "    f[0] += alpha*f_0/(h**2)\n",
    "    f[1] += alpha*f_0/(4*h**2)\n",
    "    \n",
    "    f[-2] += alpha*f_n/(4*h**2)\n",
    "    f[-1] += alpha*f_n/(h**2)\n",
    "    \n",
    "    print(A[-5:, -5:], A.shape, f.shape)\n",
    "    u = np.linalg.solve(A, f)\n",
    "    u = np.r_[f_0, u, f_n]\n",
    "elif solver == 'continuous':\n",
    "    A = alpha / h**2 * \\\n",
    "    (tridiag(list(np.ones(N-2)) + [0],\n",
    "             [h**2 / alpha] + list((-2 - h**2)*np.ones(N-2)) + [h**2 / alpha],\n",
    "             [0] + list(np.ones(N-2))))\n",
    "    \n",
    "    f_original = np.exp(xx)\n",
    "    f = f_original + np.random.choice([-1, 1], f_original.shape) * delta\n",
    "    u = np.linalg.solve(A, f)\n",
    "    \n",
    "print(A.shape, f.shape)\n"
   ]
  },
  {
   "cell_type": "code",
   "execution_count": 675,
   "metadata": {
    "pycharm": {
     "is_executing": false,
     "name": "#%%\n"
    }
   },
   "outputs": [
    {
     "data": {
      "image/png": "[encoded data removed]",
      "text/plain": [
       "<Figure size 432x288 with 1 Axes>"
      ]
     },
     "metadata": {
      "needs_background": "light"
     },
     "output_type": "display_data"
    }
   ],
   "source": [
    "till = -1\n",
    "xx_ = xx[2:till]\n",
    "func_ = np.exp(xx)[2:till]\n",
    "stable_d = forward_diff(u, h)[1:till]\n",
    "plt.plot(xx_, stable_d, label='stable derivative')\n",
    "plt.plot(xx_, forward_diff(f, h), label='forward derivative')\n",
    "#plt.plot(xx_[:-1], central_diff(f, h), label='central derivative')\n",
    "plt.plot(xx_, func_, label='function')\n",
    "#plt.plot(xx, u, label='u')\n",
    "plt.legend()\n",
    "plt.title('N = ' + str(N) + ', alpha = ' + str(alpha) + ', Error = ' + str(np.mean(np.abs(func_ - stable_d))))\n",
    "plt.savefig('ex3.png')"
   ]
  },
  {
   "cell_type": "code",
   "execution_count": 630,
   "metadata": {
    "pycharm": {
     "name": "#%%\n"
    }
   },
   "outputs": [],
   "source": [
    "a = np.diag(np.ones(3), -2)\n",
    "b = a + a.T"
   ]
  },
  {
   "cell_type": "code",
   "execution_count": 296,
   "metadata": {},
   "outputs": [],
   "source": [
    "c = np.zeros(4)"
   ]
  },
  {
   "cell_type": "code",
   "execution_count": 298,
   "metadata": {},
   "outputs": [
    {
     "ename": "AttributeError",
     "evalue": "'numpy.ndarray' object has no attribute 'append'",
     "output_type": "error",
     "traceback": [
      "\u001b[0;31m---------------------------------------------------------------------------\u001b[0m",
      "\u001b[0;31mAttributeError\u001b[0m                            Traceback (most recent call last)",
      "\u001b[0;32m<ipython-input-298-005960ec60f7>\u001b[0m in \u001b[0;36m<module>\u001b[0;34m\u001b[0m\n\u001b[0;32m----> 1\u001b[0;31m \u001b[0mc\u001b[0m\u001b[0;34m.\u001b[0m\u001b[0mappend\u001b[0m\u001b[0;34m(\u001b[0m\u001b[0;36m2\u001b[0m\u001b[0;34m)\u001b[0m\u001b[0;34m\u001b[0m\u001b[0;34m\u001b[0m\u001b[0m\n\u001b[0m",
      "\u001b[0;31mAttributeError\u001b[0m: 'numpy.ndarray' object has no attribute 'append'"
     ]
    }
   ],
   "source": [
    "c.append(2)"
   ]
  },
  {
   "cell_type": "code",
   "execution_count": 424,
   "metadata": {},
   "outputs": [
    {
     "data": {
      "text/plain": [
       "array([1., 0., 0., 0., 0., 2.])"
      ]
     },
     "execution_count": 424,
     "metadata": {},
     "output_type": "execute_result"
    }
   ],
   "source": [
    "np.r_[1, c, 2]"
   ]
  },
  {
   "cell_type": "code",
   "execution_count": null,
   "metadata": {},
   "outputs": [],
   "source": []
  }
 ],
 "metadata": {
  "kernelspec": {
   "display_name": "Python 3",
   "language": "python",
   "name": "python3"
  },
  "language_info": {
   "codemirror_mode": {
    "name": "ipython",
    "version": 3
   },
   "file_extension": ".py",
   "mimetype": "text/x-python",
   "name": "python",
   "nbconvert_exporter": "python",
   "pygments_lexer": "ipython3",
   "version": "3.7.7"
  },
  "pycharm": {
   "stem_cell": {
    "cell_type": "raw",
    "metadata": {
     "collapsed": false
    },
    "source": []
   }
  }
 },
 "nbformat": 4,
 "nbformat_minor": 1
}
